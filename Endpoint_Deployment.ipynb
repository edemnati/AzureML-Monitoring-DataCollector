{
 "cells": [
  {
   "cell_type": "markdown",
   "metadata": {
    "nteract": {
     "transient": {
      "deleting": false
     }
    }
   },
   "source": [
    "## Configuring Data Collector in Azure Machine Learning (AzureML)"
   ]
  },
  {
   "cell_type": "markdown",
   "metadata": {
    "nteract": {
     "transient": {
      "deleting": false
     }
    }
   },
   "source": [
    "### System configuration"
   ]
  },
  {
   "cell_type": "code",
   "execution_count": 1,
   "metadata": {
    "gather": {
     "logged": 1732643995884
    }
   },
   "outputs": [],
   "source": [
    "# import required libraries\n",
    "from azure.ai.ml import MLClient\n",
    "from azure.ai.ml.entities import (\n",
    "    ManagedOnlineEndpoint,\n",
    "    ManagedOnlineDeployment,\n",
    "    Model,\n",
    "    Environment,\n",
    "    CodeConfiguration,\n",
    "    Data,\n",
    "    DataCollector,\n",
    "    DeploymentCollection\n",
    ")\n",
    "from azure.ai.ml.constants import AssetTypes\n",
    "from azure.identity import DefaultAzureCredential"
   ]
  },
  {
   "cell_type": "code",
   "execution_count": null,
   "metadata": {
    "gather": {
     "logged": 1732643996164
    },
    "jupyter": {
     "outputs_hidden": false,
     "source_hidden": false
    },
    "nteract": {
     "transient": {
      "deleting": false
     }
    }
   },
   "outputs": [],
   "source": [
    "# enter details of your Azure Machine Learning workspace\n",
    "subscription_id = \"\"\n",
    "resource_group_name = \"\"\n",
    "workspace_name = \"\""
   ]
  },
  {
   "cell_type": "code",
   "execution_count": 3,
   "metadata": {
    "gather": {
     "logged": 1732643996441
    },
    "jupyter": {
     "outputs_hidden": false,
     "source_hidden": false
    },
    "nteract": {
     "transient": {
      "deleting": false
     }
    }
   },
   "outputs": [
    {
     "data": {
      "text/plain": [
       "MLClient(credential=<azure.identity._credentials.default.DefaultAzureCredential object at 0x7f6255880280>,\n",
       "         subscription_id=e0d7a68e-191f-4f51-83ce-d93995cd5c09,\n",
       "         resource_group_name=rg_mip,\n",
       "         workspace_name=ws_mip)"
      ]
     },
     "execution_count": 3,
     "metadata": {},
     "output_type": "execute_result"
    }
   ],
   "source": [
    "# get a handle to the workspace\n",
    "ml_client = MLClient(\n",
    "    DefaultAzureCredential(),\n",
    "    subscription_id = subscription_id,\n",
    "    resource_group_name = resource_group_name,\n",
    "    workspace_name = workspace_name\n",
    ")\n",
    "ml_client"
   ]
  },
  {
   "cell_type": "code",
   "execution_count": null,
   "metadata": {
    "gather": {
     "logged": 1732644096493
    },
    "jupyter": {
     "outputs_hidden": false,
     "source_hidden": false
    },
    "nteract": {
     "transient": {
      "deleting": false
     }
    }
   },
   "outputs": [
    {
     "data": {
      "text/plain": [
       "ManagedOnlineEndpoint({'public_network_access': None, 'provisioning_state': None, 'scoring_uri': None, 'openapi_uri': None, 'name': 'endpoint-data-collector-ez-test', 'description': 'Endpoint to test data collector', 'tags': {}, 'properties': {}, 'print_as_yaml': False, 'id': None, 'Resource__source_path': '', 'base_path': '/mnt/batch/tasks/shared/LS_root/mounts/clusters/ezzatdemnati-ci2/code/Users/ezzatdemnati/AzureML-Monitoring-DataCollector', 'creation_context': None, 'serialize': <msrest.serialization.Serializer object at 0x7f6254286ce0>, 'auth_mode': 'key', 'location': None, 'identity': None, 'traffic': {}, 'mirror_traffic': {}, 'kind': None})"
      ]
     },
     "execution_count": 12,
     "metadata": {},
     "output_type": "execute_result"
    }
   ],
   "source": [
    "# define an endpoint name\n",
    "endpoint_name = \"endpoint-data-collector-test\"\n",
    "\n",
    "# create an online endpoint\n",
    "endpoint = ManagedOnlineEndpoint(\n",
    "    name = endpoint_name, \n",
    "    description=\"Endpoint to test data collector\",\n",
    "    auth_mode=\"key\"\n",
    ")\n",
    "endpoint"
   ]
  },
  {
   "cell_type": "markdown",
   "metadata": {
    "nteract": {
     "transient": {
      "deleting": false
     }
    }
   },
   "source": [
    "### Option 1: Local model deployment"
   ]
  },
  {
   "cell_type": "code",
   "execution_count": 47,
   "metadata": {
    "gather": {
     "logged": 1732645369701
    },
    "jupyter": {
     "outputs_hidden": false,
     "source_hidden": false
    },
    "nteract": {
     "transient": {
      "deleting": false
     }
    }
   },
   "outputs": [],
   "source": [
    "# define local model and environment\n",
    "model = Model(path = \"./model/sklearn_regression_model.pkl\")\n",
    "\n",
    "env = Environment(\n",
    "    conda_file = \"./environment/conda.yaml\",\n",
    "    name=\"my_env\",\n",
    "    image = \"mcr.microsoft.com/azureml/openmpi4.1.0-ubuntu20.04:latest\",\n",
    ")"
   ]
  },
  {
   "cell_type": "markdown",
   "metadata": {
    "nteract": {
     "transient": {
      "deleting": false
     }
    }
   },
   "source": [
    "### Option 2: Registered model deployment"
   ]
  },
  {
   "cell_type": "code",
   "execution_count": 58,
   "metadata": {
    "gather": {
     "logged": 1732645619449
    },
    "jupyter": {
     "outputs_hidden": false,
     "source_hidden": false
    },
    "nteract": {
     "transient": {
      "deleting": false
     }
    }
   },
   "outputs": [
    {
     "data": {
      "text/plain": [
       "Model({'job_name': None, 'intellectual_property': None, 'is_anonymous': False, 'auto_increment_version': False, 'auto_delete_setting': None, 'name': 'scikit-model', 'description': 'SciKit model created from local file', 'tags': {}, 'properties': {}, 'print_as_yaml': False, 'id': '/subscriptions/e0d7a68e-191f-4f51-83ce-d93995cd5c09/resourceGroups/rg_mip/providers/Microsoft.MachineLearningServices/workspaces/ws_mip/models/scikit-model/versions/3', 'Resource__source_path': '', 'base_path': '/mnt/batch/tasks/shared/LS_root/mounts/clusters/ezzatdemnati-ci2/code/Users/ezzatdemnati/AzureML-Monitoring-DataCollector', 'creation_context': <azure.ai.ml.entities._system_data.SystemData object at 0x7f623b55d3c0>, 'serialize': <msrest.serialization.Serializer object at 0x7f623b55f4c0>, 'version': '3', 'latest_version': None, 'path': 'azureml://subscriptions/e0d7a68e-191f-4f51-83ce-d93995cd5c09/resourceGroups/rg_mip/workspaces/ws_mip/datastores/workspaceblobstore/paths/LocalUpload/feaceb82707cfcabaaea8cc9d6f4c933/model', 'datastore': None, 'utc_time_created': None, 'flavors': None, 'arm_type': 'model_version', 'type': 'custom_model', 'stage': 'Development'})"
      ]
     },
     "execution_count": 58,
     "metadata": {},
     "output_type": "execute_result"
    }
   ],
   "source": [
    "file_model = Model(\n",
    "    path=\"./model/\",\n",
    "    type=AssetTypes.CUSTOM_MODEL,\n",
    "    name=\"scikit-model\",\n",
    "    description=\"SciKit model created from local file\",\n",
    ")\n",
    "my_model = ml_client.models.create_or_update(file_model)\n",
    "my_model"
   ]
  },
  {
   "cell_type": "code",
   "execution_count": null,
   "metadata": {
    "gather": {
     "logged": 1732644005621
    },
    "jupyter": {
     "outputs_hidden": false,
     "source_hidden": false
    },
    "nteract": {
     "transient": {
      "deleting": false
     }
    }
   },
   "outputs": [
    {
     "data": {
      "text/plain": [
       "Environment({'arm_type': 'environment_version', 'latest_version': None, 'image': 'mcr.microsoft.com/azureml/openmpi4.1.0-ubuntu20.04', 'intellectual_property': None, 'is_anonymous': False, 'auto_increment_version': False, 'auto_delete_setting': None, 'name': 'scikit-env', 'description': 'SciKit env from Docker image and Conda file', 'tags': {}, 'properties': {'azureml.labels': 'latest'}, 'print_as_yaml': False, 'id': '/subscriptions/e0d7a68e-191f-4f51-83ce-d93995cd5c09/resourceGroups/rg_mip/providers/Microsoft.MachineLearningServices/workspaces/ws_mip/environments/scikit-env/versions/1', 'Resource__source_path': '', 'base_path': '/mnt/batch/tasks/shared/LS_root/mounts/clusters/ezzatdemnati-ci2/code/Users/ezzatdemnati/AzureML-Monitoring-DataCollector', 'creation_context': <azure.ai.ml.entities._system_data.SystemData object at 0x7f62547562c0>, 'serialize': <msrest.serialization.Serializer object at 0x7f6254754700>, 'version': '1', 'conda_file': {'channels': ['conda-forge'], 'dependencies': ['python=3.9', 'numpy=1.23.5', 'pandas', 'pip=23.0.1', 'scikit-learn=1.2.2', 'scipy=1.10.1', {'pip': ['azureml-defaults==1.53.0', 'azureml-ai-monitoring', 'inference-schema[numpy-support]==1.5.1', 'joblib==1.2.0']}], 'name': 'model-env'}, 'build': None, 'inference_config': None, 'os_type': 'Linux', 'conda_file_path': None, 'path': None, 'datastore': None, 'upload_hash': None, 'translated_conda_file': '{\\n  \"channels\": [\\n    \"conda-forge\"\\n  ],\\n  \"dependencies\": [\\n    \"python=3.9\",\\n    \"numpy=1.23.5\",\\n    \"pandas\",\\n    \"pip=23.0.1\",\\n    \"scikit-learn=1.2.2\",\\n    \"scipy=1.10.1\",\\n    {\\n      \"pip\": [\\n        \"azureml-defaults==1.53.0\",\\n        \"azureml-ai-monitoring\",\\n        \"inference-schema[numpy-support]==1.5.1\",\\n        \"joblib==1.2.0\"\\n      ]\\n    }\\n  ],\\n  \"name\": \"model-env\"\\n}'})"
      ]
     },
     "execution_count": 7,
     "metadata": {},
     "output_type": "execute_result"
    }
   ],
   "source": [
    "from azure.ai.ml.entities import Environment\n",
    "\n",
    "env_docker_conda = Environment(\n",
    "    image=\"mcr.microsoft.com/azureml/openmpi4.1.0-ubuntu20.04\",\n",
    "    conda_file=\"./environment/conda.yaml\",\n",
    "    name=\"scikit-env\",\n",
    "    description=\"SciKit env from Docker image and Conda file\",\n",
    ")\n",
    "my_env = ml_client.environments.create_or_update(env_docker_conda)"
   ]
  },
  {
   "cell_type": "code",
   "execution_count": 38,
   "metadata": {
    "gather": {
     "logged": 1732644801726
    },
    "jupyter": {
     "outputs_hidden": false,
     "source_hidden": false
    },
    "nteract": {
     "transient": {
      "deleting": false
     }
    }
   },
   "outputs": [],
   "source": [
    "# define registered model and environment\n",
    "#model = \"scikit-model:1\"\n",
    "#env = \"scikit-env:1\""
   ]
  },
  {
   "cell_type": "markdown",
   "metadata": {
    "nteract": {
     "transient": {
      "deleting": false
     }
    }
   },
   "source": [
    "### Configuring managed endpoint"
   ]
  },
  {
   "cell_type": "code",
   "execution_count": 59,
   "metadata": {
    "gather": {
     "logged": 1732645639865
    },
    "jupyter": {
     "outputs_hidden": false,
     "source_hidden": false
    },
    "nteract": {
     "transient": {
      "deleting": false
     }
    }
   },
   "outputs": [],
   "source": [
    "# define data collector\n",
    "# input_data_asset = Data(\n",
    "#     name = 'model_inputs',\n",
    "#     version ='1',\n",
    "#     path = 'azureml://datastores/model_inputs/paths/model_inputs'\n",
    "# )\n",
    "# output_data_asset = Data(\n",
    "#     name = 'model_outputs',\n",
    "#     version = '1',\n",
    "#     path = 'azureml://datastores/model_inputs/paths/model_outputs'\n",
    "# )\n",
    "\n",
    "collections = {\n",
    "    'model_inputs': DeploymentCollection(\n",
    "        enabled=\"true\",\n",
    "        # data=input_data_asset\n",
    "    ),\n",
    "    'model_outputs': DeploymentCollection(\n",
    "        enabled=\"true\",\n",
    "        # data=output_data_asset\n",
    "    )\n",
    "}\n",
    "\n",
    "data_collector = DataCollector(collections=collections)"
   ]
  },
  {
   "cell_type": "code",
   "execution_count": 60,
   "metadata": {
    "gather": {
     "logged": 1732645643538
    },
    "jupyter": {
     "outputs_hidden": false,
     "source_hidden": false
    },
    "nteract": {
     "transient": {
      "deleting": false
     }
    }
   },
   "outputs": [
    {
     "data": {
      "text/plain": [
       "<azure.core.polling._poller.LROPoller at 0x7f623b8bbfd0>"
      ]
     },
     "execution_count": 60,
     "metadata": {},
     "output_type": "execute_result"
    }
   ],
   "source": [
    "# create endpoint\n",
    "ml_client.online_endpoints.begin_create_or_update(endpoint)"
   ]
  },
  {
   "cell_type": "code",
   "execution_count": 66,
   "metadata": {
    "gather": {
     "logged": 1732646607924
    },
    "jupyter": {
     "outputs_hidden": false,
     "source_hidden": false
    },
    "nteract": {
     "transient": {
      "deleting": false
     }
    }
   },
   "outputs": [],
   "source": [
    "# check endpoint\n",
    "my_endpoint = ml_client.online_endpoints.get(name=endpoint_name)"
   ]
  },
  {
   "cell_type": "code",
   "execution_count": 62,
   "metadata": {
    "gather": {
     "logged": 1732645651399
    },
    "jupyter": {
     "outputs_hidden": false,
     "source_hidden": false
    },
    "nteract": {
     "transient": {
      "deleting": false
     }
    }
   },
   "outputs": [],
   "source": [
    "# define deployment\n",
    "blue_deployment = ManagedOnlineDeployment(\n",
    "    name=\"blue-dep\",\n",
    "    endpoint_name=endpoint_name,\n",
    "    model=my_model,\n",
    "    environment=my_env,\n",
    "    code_configuration=CodeConfiguration(\n",
    "        code=\"./onlinescoring\", scoring_script=\"score_datacollector.py\"\n",
    "    ),\n",
    "    instance_type=\"Standard_DS2_v2\",\n",
    "    instance_count=1,\n",
    "    data_collector=data_collector\n",
    ")"
   ]
  },
  {
   "cell_type": "code",
   "execution_count": 63,
   "metadata": {
    "gather": {
     "logged": 1732645660966
    },
    "jupyter": {
     "outputs_hidden": false,
     "source_hidden": false
    },
    "nteract": {
     "transient": {
      "deleting": false
     }
    }
   },
   "outputs": [
    {
     "name": "stderr",
     "output_type": "stream",
     "text": [
      "Instance type Standard_DS2_v2 may be too small for compute resources. Minimum recommended compute SKU is Standard_DS3_v2 for general purpose endpoints. Learn more about SKUs here: https://learn.microsoft.com/en-us/azure/machine-learning/referencemanaged-online-endpoints-vm-sku-list\n",
      "Check: endpoint endpoint-data-collector-ez-test exists\n",
      "\u001b[32mUploading onlinescoring (0.0 MBs): 100%|██████████| 2618/2618 [00:00<00:00, 58571.17it/s]\n",
      "\u001b[39m\n",
      "\n"
     ]
    },
    {
     "data": {
      "text/plain": [
       "<azure.core.polling._poller.LROPoller at 0x7f623bbbf3d0>"
      ]
     },
     "execution_count": 63,
     "metadata": {},
     "output_type": "execute_result"
    },
    {
     "name": "stdout",
     "output_type": "stream",
     "text": [
      "....................................................................................................."
     ]
    }
   ],
   "source": [
    "# create deployment\n",
    "ml_client.online_deployments.begin_create_or_update(blue_deployment)"
   ]
  },
  {
   "cell_type": "code",
   "execution_count": 69,
   "metadata": {
    "gather": {
     "logged": 1732646774646
    },
    "jupyter": {
     "outputs_hidden": false,
     "source_hidden": false
    },
    "nteract": {
     "transient": {
      "deleting": false
     }
    }
   },
   "outputs": [
    {
     "data": {
      "text/plain": [
       "ManagedOnlineEndpoint({'public_network_access': 'Enabled', 'provisioning_state': 'Succeeded', 'scoring_uri': 'https://endpoint-data-collector-ez-test.eastus.inference.ml.azure.com/score', 'openapi_uri': 'https://endpoint-data-collector-ez-test.eastus.inference.ml.azure.com/swagger.json', 'name': 'endpoint-data-collector-ez-test', 'description': 'Endpoint to test data collector', 'tags': {}, 'properties': {'createdBy': 'Ezzat Demnati', 'createdAt': '2024-11-26T18:02:24.162367+0000', 'lastModifiedAt': '2024-11-26T18:02:24.162367+0000', 'azureml.onlineendpointid': '/subscriptions/e0d7a68e-191f-4f51-83ce-d93995cd5c09/resourcegroups/rg_mip/providers/microsoft.machinelearningservices/workspaces/ws_mip/onlineendpoints/endpoint-data-collector-ez-test', 'AzureAsyncOperationUri': 'https://management.azure.com/subscriptions/e0d7a68e-191f-4f51-83ce-d93995cd5c09/providers/Microsoft.MachineLearningServices/locations/eastus/mfeOperationsStatus/oeidp:deaf618c-e3a5-4db2-b672-b0ad927d2ce3:37db706d-2976-4ced-bbbd-b561b6870f8e?api-version=2022-02-01-preview'}, 'print_as_yaml': False, 'id': '/subscriptions/e0d7a68e-191f-4f51-83ce-d93995cd5c09/resourceGroups/rg_mip/providers/Microsoft.MachineLearningServices/workspaces/ws_mip/onlineEndpoints/endpoint-data-collector-ez-test', 'Resource__source_path': '', 'base_path': '/mnt/batch/tasks/shared/LS_root/mounts/clusters/ezzatdemnati-ci2/code/Users/ezzatdemnati/AzureML-Monitoring-DataCollector', 'creation_context': None, 'serialize': <msrest.serialization.Serializer object at 0x7f623b8122f0>, 'auth_mode': 'key', 'location': 'eastus', 'identity': <azure.ai.ml.entities._credentials.IdentityConfiguration object at 0x7f623b55efb0>, 'traffic': {'blue-dep': 0}, 'mirror_traffic': {}, 'kind': 'Managed'})"
      ]
     },
     "execution_count": 69,
     "metadata": {},
     "output_type": "execute_result"
    }
   ],
   "source": [
    "endpoint = ml_client.online_endpoints.get(endpoint_name)\n",
    "endpoint"
   ]
  },
  {
   "cell_type": "code",
   "execution_count": 78,
   "metadata": {
    "gather": {
     "logged": 1732647285614
    },
    "jupyter": {
     "outputs_hidden": false,
     "source_hidden": false
    },
    "nteract": {
     "transient": {
      "deleting": false
     }
    }
   },
   "outputs": [
    {
     "name": "stderr",
     "output_type": "stream",
     "text": [
      "Readonly attribute principal_id will be ignored in class <class 'azure.ai.ml._restclient.v2022_05_01.models._models_py3.ManagedServiceIdentity'>\n",
      "Readonly attribute tenant_id will be ignored in class <class 'azure.ai.ml._restclient.v2022_05_01.models._models_py3.ManagedServiceIdentity'>\n"
     ]
    },
    {
     "data": {
      "text/plain": [
       "<azure.core.polling._poller.LROPoller at 0x7f623b542320>"
      ]
     },
     "execution_count": 78,
     "metadata": {},
     "output_type": "execute_result"
    }
   ],
   "source": [
    "# blue deployment takes 100 traffic\n",
    "endpoint.traffic = {\"blue-dep\": 100}\n",
    "ml_client.online_endpoints.begin_create_or_update(endpoint)"
   ]
  },
  {
   "cell_type": "code",
   "execution_count": 74,
   "metadata": {
    "gather": {
     "logged": 1732647085479
    },
    "jupyter": {
     "outputs_hidden": false,
     "source_hidden": false
    },
    "nteract": {
     "transient": {
      "deleting": false
     }
    }
   },
   "outputs": [
    {
     "data": {
      "text/plain": [
       "'[11055.977245525679, 4503.079536107787]'"
      ]
     },
     "execution_count": 74,
     "metadata": {},
     "output_type": "execute_result"
    }
   ],
   "source": [
    "# test the blue deployment with sample data\n",
    "ml_client.online_endpoints.invoke(\n",
    "    endpoint_name=endpoint_name,\n",
    "    deployment_name=\"blue-dep\",\n",
    "    request_file=\"./sample-request.json\",\n",
    ")"
   ]
  },
  {
   "cell_type": "markdown",
   "metadata": {
    "nteract": {
     "transient": {
      "deleting": false
     }
    }
   },
   "source": [
    "### Delete managed endpoint deployment"
   ]
  },
  {
   "cell_type": "code",
   "execution_count": 75,
   "metadata": {
    "gather": {
     "logged": 1732647095120
    },
    "jupyter": {
     "outputs_hidden": false,
     "source_hidden": false
    },
    "nteract": {
     "transient": {
      "deleting": false
     }
    }
   },
   "outputs": [],
   "source": [
    "# delete deployment\n",
    "#ml_client.online_endpoints.begin_delete(name=endpoint_name)"
   ]
  }
 ],
 "metadata": {
  "kernel_info": {
   "name": "python310-sdkv2"
  },
  "kernelspec": {
   "display_name": "Python 3.10 - SDK v2",
   "language": "python",
   "name": "python310-sdkv2"
  },
  "language_info": {
   "codemirror_mode": {
    "name": "ipython",
    "version": 3
   },
   "file_extension": ".py",
   "mimetype": "text/x-python",
   "name": "python",
   "nbconvert_exporter": "python",
   "pygments_lexer": "ipython3",
   "version": "3.10.14"
  },
  "microsoft": {
   "host": {
    "AzureML": {
     "notebookHasBeenCompleted": true
    }
   },
   "ms_spell_check": {
    "ms_spell_check_language": "en"
   }
  },
  "nteract": {
   "version": "nteract-front-end@1.0.0"
  }
 },
 "nbformat": 4,
 "nbformat_minor": 2
}
